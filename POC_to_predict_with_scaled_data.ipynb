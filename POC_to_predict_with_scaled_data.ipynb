{
  "nbformat": 4,
  "nbformat_minor": 0,
  "metadata": {
    "colab": {
      "name": "POC to predict with scaled data.ipynb",
      "provenance": [],
      "collapsed_sections": [],
      "authorship_tag": "ABX9TyNto1yovjQ76ZBg5jh3+wt3",
      "include_colab_link": true
    },
    "kernelspec": {
      "name": "python3",
      "display_name": "Python 3"
    },
    "language_info": {
      "name": "python"
    }
  },
  "cells": [
    {
      "cell_type": "markdown",
      "metadata": {
        "id": "view-in-github",
        "colab_type": "text"
      },
      "source": [
        "<a href=\"https://colab.research.google.com/github/SahaRahul/Python-Practice/blob/master/POC_to_predict_with_scaled_data.ipynb\" target=\"_parent\"><img src=\"https://colab.research.google.com/assets/colab-badge.svg\" alt=\"Open In Colab\"/></a>"
      ]
    },
    {
      "cell_type": "markdown",
      "metadata": {
        "id": "erYpG3glg7sA"
      },
      "source": [
        "## Standard Scaling of the entire data"
      ]
    },
    {
      "cell_type": "code",
      "metadata": {
        "colab": {
          "base_uri": "https://localhost:8080/"
        },
        "id": "w8_ygUtpfZxY",
        "outputId": "340e4b5d-5ef0-48f0-f8a8-1beed48fd265"
      },
      "source": [
        "from sklearn.preprocessing import StandardScaler\n",
        "data = [[0, 0], [0, 0], [1, 2], [1, 1]]\n",
        "scaler = StandardScaler()\n",
        "scaler.fit_transform(data)"
      ],
      "execution_count": 1,
      "outputs": [
        {
          "output_type": "execute_result",
          "data": {
            "text/plain": [
              "array([[-1.        , -0.90453403],\n",
              "       [-1.        , -0.90453403],\n",
              "       [ 1.        ,  1.50755672],\n",
              "       [ 1.        ,  0.30151134]])"
            ]
          },
          "metadata": {
            "tags": []
          },
          "execution_count": 1
        }
      ]
    },
    {
      "cell_type": "code",
      "metadata": {
        "colab": {
          "base_uri": "https://localhost:8080/"
        },
        "id": "XkLjZZw2fguH",
        "outputId": "98603aff-3d67-4f4b-bebb-10502844f2c0"
      },
      "source": [
        "print(scaler.mean_, scaler.var_)"
      ],
      "execution_count": 2,
      "outputs": [
        {
          "output_type": "stream",
          "text": [
            "[0.5  0.75] [0.25   0.6875]\n"
          ],
          "name": "stdout"
        }
      ]
    },
    {
      "cell_type": "code",
      "metadata": {
        "colab": {
          "base_uri": "https://localhost:8080/"
        },
        "id": "UiYqI_ahfjor",
        "outputId": "4971ba14-1cf6-4744-b281-ad2d3c9c6db7"
      },
      "source": [
        "print(scaler.scale_)"
      ],
      "execution_count": 3,
      "outputs": [
        {
          "output_type": "stream",
          "text": [
            "[0.5       0.8291562]\n"
          ],
          "name": "stdout"
        }
      ]
    },
    {
      "cell_type": "code",
      "metadata": {
        "colab": {
          "base_uri": "https://localhost:8080/"
        },
        "id": "QvvN8UZMfmZa",
        "outputId": "8703b6d7-a298-4ed2-b4b0-b29def867ea3"
      },
      "source": [
        "scaler.transform([[1, 1]])"
      ],
      "execution_count": 4,
      "outputs": [
        {
          "output_type": "execute_result",
          "data": {
            "text/plain": [
              "array([[1.        , 0.30151134]])"
            ]
          },
          "metadata": {
            "tags": []
          },
          "execution_count": 0
        }
      ]
    },
    {
      "cell_type": "markdown",
      "metadata": {
        "id": "ljehrrxugv5L"
      },
      "source": [
        "## The below step shall be part of the web service to load the transformer as model and to perform the scaling."
      ]
    },
    {
      "cell_type": "code",
      "metadata": {
        "id": "RGrOiswafqGd"
      },
      "source": [
        "import joblib"
      ],
      "execution_count": 5,
      "outputs": []
    },
    {
      "cell_type": "code",
      "metadata": {
        "colab": {
          "base_uri": "https://localhost:8080/"
        },
        "id": "kxNCpjFZfvP-",
        "outputId": "37c5eaca-65c0-4f07-a7c9-c24a417ed063"
      },
      "source": [
        "joblib.dump(scaler, 'testscaler.joblib')"
      ],
      "execution_count": 6,
      "outputs": [
        {
          "output_type": "execute_result",
          "data": {
            "text/plain": [
              "['testscaler.joblib']"
            ]
          },
          "metadata": {
            "tags": []
          },
          "execution_count": 6
        }
      ]
    },
    {
      "cell_type": "code",
      "metadata": {
        "id": "hfXMbMYEf1O9"
      },
      "source": [
        "testscale = joblib.load('testscaler.joblib')"
      ],
      "execution_count": 7,
      "outputs": []
    },
    {
      "cell_type": "code",
      "metadata": {
        "colab": {
          "base_uri": "https://localhost:8080/"
        },
        "id": "cWYsd4vjf1_f",
        "outputId": "fc1e6f29-4633-4eee-be35-c11d510ccb90"
      },
      "source": [
        "testscale.transform([[1,1]])"
      ],
      "execution_count": 8,
      "outputs": [
        {
          "output_type": "execute_result",
          "data": {
            "text/plain": [
              "array([[1.        , 0.30151134]])"
            ]
          },
          "metadata": {
            "tags": []
          },
          "execution_count": 8
        }
      ]
    },
    {
      "cell_type": "markdown",
      "metadata": {
        "id": "6bOdnprVgFZo"
      },
      "source": [
        "## <font color='Amber'>Conclusion:</font> We need to store the reference as a model that does the transformation task and then use the same to transform the user input to scale it in same scale and then perform the prediction with model."
      ]
    },
    {
      "cell_type": "code",
      "metadata": {
        "id": "rn5VK84NgVwb"
      },
      "source": [
        ""
      ],
      "execution_count": null,
      "outputs": []
    }
  ]
}