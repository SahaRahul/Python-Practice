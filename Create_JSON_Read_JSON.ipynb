{
  "nbformat": 4,
  "nbformat_minor": 0,
  "metadata": {
    "colab": {
      "name": "Create_JSON_Read_JSON.ipynb",
      "provenance": [],
      "collapsed_sections": [],
      "authorship_tag": "ABX9TyOm4MnFyKgbHNX2uq9ih9Vj",
      "include_colab_link": true
    },
    "kernelspec": {
      "name": "python3",
      "display_name": "Python 3"
    }
  },
  "cells": [
    {
      "cell_type": "markdown",
      "metadata": {
        "id": "view-in-github",
        "colab_type": "text"
      },
      "source": [
        "<a href=\"https://colab.research.google.com/github/SahaRahul/Python-Practice/blob/master/Create_JSON_Read_JSON.ipynb\" target=\"_parent\"><img src=\"https://colab.research.google.com/assets/colab-badge.svg\" alt=\"Open In Colab\"/></a>"
      ]
    },
    {
      "cell_type": "markdown",
      "metadata": {
        "id": "S6hpoQUKDqnq"
      },
      "source": [
        "## Import necessary library"
      ]
    },
    {
      "cell_type": "code",
      "metadata": {
        "id": "osL-BQ4m-ctg"
      },
      "source": [
        "import pandas as pd\n",
        "import json\n",
        "from operator import itemgetter"
      ],
      "execution_count": 10,
      "outputs": []
    },
    {
      "cell_type": "markdown",
      "metadata": {
        "id": "ypRGIO6GD3y9"
      },
      "source": [
        "## We are creating dataframe from list."
      ]
    },
    {
      "cell_type": "code",
      "metadata": {
        "id": "QyDKhvin-ix6"
      },
      "source": [
        "data = [{\"user\": \"username\", \"pwd\": \"password\"}]\n",
        "data_df = pd.DataFrame(data=data)"
      ],
      "execution_count": 20,
      "outputs": []
    },
    {
      "cell_type": "code",
      "metadata": {
        "id": "cbbgAscRIkaq",
        "outputId": "02ad9617-1ed2-45bf-9396-d73e7c81cf77",
        "colab": {
          "base_uri": "https://localhost:8080/",
          "height": 34
        }
      },
      "source": [
        "type(data)"
      ],
      "execution_count": 21,
      "outputs": [
        {
          "output_type": "execute_result",
          "data": {
            "text/plain": [
              "list"
            ]
          },
          "metadata": {
            "tags": []
          },
          "execution_count": 21
        }
      ]
    },
    {
      "cell_type": "code",
      "metadata": {
        "id": "pZP2-6KcIruN",
        "outputId": "d3db6c2a-0c70-4ee9-8a84-ed48fe0c7cbb",
        "colab": {
          "base_uri": "https://localhost:8080/",
          "height": 51
        }
      },
      "source": [
        "print(data_df)"
      ],
      "execution_count": 22,
      "outputs": [
        {
          "output_type": "stream",
          "text": [
            "       user       pwd\n",
            "0  username  password\n"
          ],
          "name": "stdout"
        }
      ]
    },
    {
      "cell_type": "markdown",
      "metadata": {
        "id": "UvYoFVMVENVN"
      },
      "source": [
        "## Creating a JSON file from dataframe.\n",
        "#### There are various option for orient - 'table', 'index', 'values'; I am selecting 'records'"
      ]
    },
    {
      "cell_type": "code",
      "metadata": {
        "id": "dKxCowBQIumF"
      },
      "source": [
        "data_df.to_json(\"testjson.JSON\", orient='records', indent=4)"
      ],
      "execution_count": 14,
      "outputs": []
    },
    {
      "cell_type": "markdown",
      "metadata": {
        "id": "RBOrFY_1Eo4U"
      },
      "source": [
        "## To check the create JSON file"
      ]
    },
    {
      "cell_type": "code",
      "metadata": {
        "id": "x3GRFjKJCZVu",
        "outputId": "2a42dfff-94a3-4d41-90cc-fe5d2c1093d5",
        "colab": {
          "base_uri": "https://localhost:8080/",
          "height": 34
        }
      },
      "source": [
        "ls"
      ],
      "execution_count": 15,
      "outputs": [
        {
          "output_type": "stream",
          "text": [
            "\u001b[0m\u001b[01;34msample_data\u001b[0m/  testjson.JSON\n"
          ],
          "name": "stdout"
        }
      ]
    },
    {
      "cell_type": "markdown",
      "metadata": {
        "id": "Gg7_EoRMEuQD"
      },
      "source": [
        "## Lets read the newly create JSON file and its parameter"
      ]
    },
    {
      "cell_type": "code",
      "metadata": {
        "id": "0gjTDnYnJKIq",
        "outputId": "9e63501e-fbf4-44dd-c97b-f4a43aa96a32",
        "colab": {
          "base_uri": "https://localhost:8080/",
          "height": 34
        }
      },
      "source": [
        "import json\n",
        "from operator import itemgetter\n",
        "\n",
        "try:\n",
        "  with open(\"testjson.JSON\") as user_data:\n",
        "    user_dt = json.load(user_data)\n",
        "except ValueError as error:\n",
        "  print(\"Error type:\", type(error))\n",
        "  print(\"json.loads() ValueError for JSON object:\", error)\n",
        "\n",
        "user_name = list(map(itemgetter(\"user\"), user_dt))[0]\n",
        "password = list(map(itemgetter(\"pwd\"), user_dt))[0]\n",
        "\n",
        "(user_name, password)"
      ],
      "execution_count": 16,
      "outputs": [
        {
          "output_type": "execute_result",
          "data": {
            "text/plain": [
              "('username', 'password')"
            ]
          },
          "metadata": {
            "tags": []
          },
          "execution_count": 16
        }
      ]
    },
    {
      "cell_type": "code",
      "metadata": {
        "id": "fOyTbAi0MPYu",
        "outputId": "aa55f475-ba16-4909-80c2-de576469fc20",
        "colab": {
          "base_uri": "https://localhost:8080/",
          "height": 34
        }
      },
      "source": [
        "user_name = list(map(itemgetter(\"user\"), user_dt))[0]\n",
        "password = list(map(itemgetter(\"pwd\"), user_dt))[0]\n",
        "\n",
        "(user_name, password)"
      ],
      "execution_count": 17,
      "outputs": [
        {
          "output_type": "execute_result",
          "data": {
            "text/plain": [
              "('username', 'password')"
            ]
          },
          "metadata": {
            "tags": []
          },
          "execution_count": 17
        }
      ]
    },
    {
      "cell_type": "code",
      "metadata": {
        "id": "Cr3y7tzEMSoz",
        "outputId": "d3f8b205-da03-4d36-ee6b-327a362febd3",
        "colab": {
          "base_uri": "https://localhost:8080/",
          "height": 35
        }
      },
      "source": [
        "user_name"
      ],
      "execution_count": 18,
      "outputs": [
        {
          "output_type": "execute_result",
          "data": {
            "application/vnd.google.colaboratory.intrinsic+json": {
              "type": "string"
            },
            "text/plain": [
              "'username'"
            ]
          },
          "metadata": {
            "tags": []
          },
          "execution_count": 18
        }
      ]
    },
    {
      "cell_type": "code",
      "metadata": {
        "id": "ai0WyAndPbs1"
      },
      "source": [
        ""
      ],
      "execution_count": null,
      "outputs": []
    }
  ]
}